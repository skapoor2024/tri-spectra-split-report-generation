{
 "cells": [
  {
   "cell_type": "code",
   "execution_count": 2,
   "id": "694f790b",
   "metadata": {},
   "outputs": [],
   "source": [
    "import os\n",
    "import glob\n",
    "import pandas as pd\n",
    "import numpy as np"
   ]
  },
  {
   "cell_type": "code",
   "execution_count": 3,
   "id": "b65a11c6",
   "metadata": {},
   "outputs": [],
   "source": [
    "import shutil"
   ]
  },
  {
   "cell_type": "code",
   "execution_count": 12,
   "id": "18cc5f17",
   "metadata": {},
   "outputs": [
    {
     "name": "stdout",
     "output_type": "stream",
     "text": [
      "C:\\Users\\Admin\\Desktop\\All_csv_files_DORB-Khanna\\120609_DORB-R-G-140121-00120210114-00744_0_5-1.csv\n"
     ]
    }
   ],
   "source": [
    "route1 = r\"C:\\Users\\Admin\\Desktop\\All_csv_files_DORB-Khanna\"\n",
    "source = r\"C:\\Users\\Admin\\Desktop\\di_pls_data\"\n",
    "csv_files = [os.path.join(route1, csv) for csv in os.listdir(route1) if os.path.isfile(os.path.join(route1, csv)) and csv.endswith('.csv')]\n",
    "for csv_file in csv_files:\n",
    "    df = pd.read_csv(csv_file,skiprows = 6, nrows = 0)\n",
    "    d = df.columns[1]\n",
    "    path = os.path.join(source,d)\n",
    "    if not os.path.exists(path):\n",
    "        try:\n",
    "            os.mkdir(path)\n",
    "        except OSError:\n",
    "            print(csv_file)\n",
    "    shutil.copy(csv_file,path)"
   ]
  },
  {
   "cell_type": "markdown",
   "id": "8f34b011",
   "metadata": {},
   "source": [
    "### merged_csv"
   ]
  },
  {
   "cell_type": "code",
   "execution_count": 4,
   "id": "1f7eb344",
   "metadata": {
    "scrolled": true
   },
   "outputs": [
    {
     "name": "stderr",
     "output_type": "stream",
     "text": [
      "C:\\Users\\Admin\\AppData\\Local\\Temp/ipykernel_15576/1585967908.py:11: PerformanceWarning: DataFrame is highly fragmented.  This is usually the result of calling `frame.insert` many times, which has poor performance.  Consider joining all columns at once using pd.concat(axis=1) instead.  To get a de-fragmented frame, use `newframe = frame.copy()`\n",
      "  temp[csv_file.split('\\\\')[-1]] = temp1\n"
     ]
    }
   ],
   "source": [
    "route2 = r\"C:\\Users\\Admin\\Desktop\\di_pls_data_2\"\n",
    "for fol in os.listdir(route2):\n",
    "    p1 = os.path.join(route2,fol)\n",
    "    csv_files = [os.path.join(p1, csv) for csv in os.listdir(p1) if os.path.isfile(os.path.join(p1, csv)) and csv.endswith('.csv')]\n",
    "    temp = pd.DataFrame()\n",
    "    for csv_file in csv_files:\n",
    "        df = pd.read_csv(csv_file,skiprows = 18)\n",
    "        temp1 = pd.DataFrame()    \n",
    "        temp1 = df['Absorbance']\n",
    "        csv_file_name = csv_file.split('\\\\')[-1].split('.')[0].split('_') \n",
    "        temp[csv_file.split('\\\\')[-1]] = temp1\n",
    "    temp = temp.T\n",
    "    temp = temp.reset_index()\n",
    "    temp.rename(columns = {'index':'csv'},inplace = True)\n",
    "    temp['csv'] = temp.csv.str.slice(stop=-6)\n",
    "    temp = temp.groupby(by = ['csv']).mean()\n",
    "    temp.to_csv(p1 + '/' + 'merged '+fol+'.csv')"
   ]
  },
  {
   "cell_type": "code",
   "execution_count": null,
   "id": "02ccc77e",
   "metadata": {},
   "outputs": [],
   "source": []
  }
 ],
 "metadata": {
  "kernelspec": {
   "display_name": "Python 3 (ipykernel)",
   "language": "python",
   "name": "python3"
  },
  "language_info": {
   "codemirror_mode": {
    "name": "ipython",
    "version": 3
   },
   "file_extension": ".py",
   "mimetype": "text/x-python",
   "name": "python",
   "nbconvert_exporter": "python",
   "pygments_lexer": "ipython3",
   "version": "3.9.7"
  }
 },
 "nbformat": 4,
 "nbformat_minor": 5
}
